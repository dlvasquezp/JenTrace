{
 "cells": [
  {
   "cell_type": "code",
   "execution_count": 1,
   "metadata": {},
   "outputs": [],
   "source": [
    "import sys\n",
    "sys.path.append(\"C:\\\\Users\\\\Pandora\\\\Documents\\\\GitHub\\\\JenTrace\\\\src\")"
   ]
  },
  {
   "cell_type": "code",
   "execution_count": 2,
   "metadata": {},
   "outputs": [],
   "source": [
    "from JenTrace.opt_sys import OpSysData\n",
    "\n",
    "#Create an object to store the lens data.\n",
    "syst1 = OpSysData()  "
   ]
  },
  {
   "cell_type": "code",
   "execution_count": 3,
   "metadata": {},
   "outputs": [
    {
     "name": "stdout",
     "output_type": "stream",
     "text": [
      "\n",
      "SURFACE LIST\n",
      "Class:OpSysData\n",
      "    #     Distance    Curvature     Material         Type \n",
      "    0    10.000000     0.000000            1     standard \n",
      "    1     0.000000     0.000000            1     standard \n"
     ]
    },
    {
     "data": {
      "image/png": "[encoded data removed]",
      "text/plain": [
       "<Figure size 432x288 with 1 Axes>"
      ]
     },
     "metadata": {
      "needs_background": "light"
     },
     "output_type": "display_data"
    }
   ],
   "source": [
    "syst1.print_report()\n",
    "syst1.plot_optical_system(clearSemDia_usr=[5])"
   ]
  },
  {
   "cell_type": "code",
   "execution_count": 4,
   "metadata": {},
   "outputs": [],
   "source": [
    "# Add the lens information \n",
    "# link https://www.edmundoptics.de/p/125mm-dia-x-25mm-fl-mgfsub2sub-coated-achromatic-doublet-lens/2280/\n",
    "syst1.add_surface(5.00 ,1/17.27   ,'N-BAF10')\n",
    "syst1.add_surface(1.25 ,1/-10.99  ,'N-SF10')\n",
    "syst1.add_surface(3    ,1/-107.03 ,1)"
   ]
  },
  {
   "cell_type": "code",
   "execution_count": 5,
   "metadata": {},
   "outputs": [
    {
     "name": "stdout",
     "output_type": "stream",
     "text": [
      "\n",
      "SURFACE LIST\n",
      "Class:OpSysData\n",
      "    #     Distance    Curvature     Material         Type \n",
      "    0    10.000000     0.000000            1     standard \n",
      "    1     5.000000     0.057904      N-BAF10     standard \n",
      "    2     1.250000    -0.090992       N-SF10     standard \n",
      "    3     3.000000    -0.009343            1     standard \n",
      "    4     0.000000     0.000000            1     standard \n"
     ]
    },
    {
     "data": {
      "image/png": "[encoded data removed]",
      "text/plain": [
       "<Figure size 432x288 with 1 Axes>"
      ]
     },
     "metadata": {
      "needs_background": "light"
     },
     "output_type": "display_data"
    }
   ],
   "source": [
    "syst1.print_report()\n",
    "syst1.plot_optical_system(clearSemDia_usr=[12.5/2])"
   ]
  },
  {
   "cell_type": "code",
   "execution_count": 6,
   "metadata": {},
   "outputs": [],
   "source": [
    "#Add second\n",
    "#Link https://www.edmundoptics.de/p/15mm-dia-x-45mm-fl-uncoated-double-convex-lens/18182/\n",
    "#To change the las surface distance from the previus value 3mm to 1.0mm\n",
    "syst1.change_surface(1.0    ,1/-107.03 ,1 ,surfIndex=3)\n",
    "\n",
    "#Add the second lens\n",
    "syst1.add_surface(3.00 ,1/ 45.99    ,'N-BK7')\n",
    "syst1.add_surface(1.5  ,1/-45.99    ,1    )\n"
   ]
  },
  {
   "cell_type": "code",
   "execution_count": 7,
   "metadata": {},
   "outputs": [
    {
     "name": "stdout",
     "output_type": "stream",
     "text": [
      "\n",
      "SURFACE LIST\n",
      "Class:OpSysData\n",
      "    #     Distance    Curvature     Material         Type \n",
      "    0    10.000000     0.000000            1     standard \n",
      "    1     5.000000     0.057904      N-BAF10     standard \n",
      "    2     1.250000    -0.090992       N-SF10     standard \n",
      "    3     1.000000    -0.009343            1     standard \n",
      "    4     3.000000     0.021744        N-BK7     standard \n",
      "    5     1.500000    -0.021744            1     standard \n",
      "    6     0.000000     0.000000            1     standard \n"
     ]
    },
    {
     "data": {
      "image/png": "[encoded data removed]",
      "text/plain": [
       "<Figure size 432x288 with 1 Axes>"
      ]
     },
     "metadata": {
      "needs_background": "light"
     },
     "output_type": "display_data"
    }
   ],
   "source": [
    "syst1.print_report()\n",
    "syst1.plot_optical_system(clearSemDia_usr=[5, 12.5/2, 12.5/2, 12.5/2, 15/2, 15/2, 5])"
   ]
  },
  {
   "cell_type": "code",
   "execution_count": 8,
   "metadata": {},
   "outputs": [],
   "source": [
    "from JenTrace.ray_src import RaySource\n",
    "#Create a ray source to store data\n",
    "pto1=RaySource()\n",
    "#Add a ray to the ray source\n",
    "pto1.new_ray([0,2,0],[0,0,1],587.6 )  "
   ]
  },
  {
   "cell_type": "code",
   "execution_count": 9,
   "metadata": {},
   "outputs": [
    {
     "name": "stdout",
     "output_type": "stream",
     "text": [
      "\n",
      "RAY LIST\n",
      "Class:RaySource\n",
      "    #         XPos         YPos         ZPos      XCosDir      YCosDir      ZCosDir   Wavelength \n",
      "    0     0.000000     2.000000     0.000000     0.000000     0.000000     1.000000   587.600000 \n"
     ]
    }
   ],
   "source": [
    "pto1.print_report()"
   ]
  },
  {
   "cell_type": "code",
   "execution_count": 10,
   "metadata": {},
   "outputs": [
    {
     "name": "stdout",
     "output_type": "stream",
     "text": [
      "\n",
      "RAYTRACE REPORT - RAY #0\n",
      "\n",
      "  Prop\\Surf#       Object            1            2            3            4            5        Image \n",
      "           d    10.000000     5.000000     1.250000     1.000000     3.000000     1.500000     0.000000 \n",
      "           c     0.000000     0.057904    -0.090992    -0.009343     0.021744    -0.021744     0.000000 \n",
      "           n     1.000000     1.670027     1.728272     1.000000     1.516798     1.000000     1.000000 \n",
      "          X0     0.000000     0.000000     0.000000     0.000000     0.000000     0.000000     0.000000 \n",
      "          Y0     0.000000     2.000000     1.771919     1.723535     1.642670     1.447022     1.272402 \n",
      "           F     0.000000     0.231616    -0.285687    -0.027755     0.058673    -0.045529     0.000000 \n",
      "           G     0.000000     1.000000     0.991390     0.998583     0.999650     0.995847     0.993380 \n",
      "       Delta     0.000000     0.116199    -0.145049    -0.013898     0.029356    -0.022865     0.000000 \n",
      "           X     0.000000     0.000000     0.000000     0.000000     0.000000     0.000000     0.000000 \n",
      "           Y     2.000000     2.000000     1.778686     1.724084     1.640320     1.448507     1.272402 \n",
      "           Z     0.000000     0.116199    -0.144892    -0.013887     0.029262    -0.022817     0.000000 \n",
      "      check1     1.000000     1.000000     1.000000     1.000000     1.000000     1.000000     1.000000 \n",
      "        alfa     0.000000    -0.000000     0.000000     0.000000    -0.000000     0.000000    -0.000000 \n",
      "        beta     0.000000    -0.115808     0.161846     0.016108    -0.035667     0.031496    -0.000000 \n",
      "       gamma     0.000000     0.993272     0.986816     0.999870     0.999364     0.999504     1.000000 \n",
      "      lambda   587.600000   587.600000   587.600000   587.600000   587.600000   587.600000   587.600000 \n",
      "        cosI     0.000000     0.993272     0.978191     0.998453     0.999012     0.995350     0.993380 \n",
      "       CosIp     0.000000     0.997593     0.979652     0.995373     0.999571     0.989268     0.993380 \n",
      "           K     0.000000     0.038954    -0.005414     0.006823     0.011245     0.011317     0.000000 \n",
      "           L     0.000000     0.000000     0.000000     0.000000     0.000000     0.000000     0.000000 \n",
      "           M     0.000000    -0.046651    -0.039507    -0.080041    -0.064930    -0.114879    -0.114879 \n",
      "           N     1.000000     0.998911     0.999219     0.996792     0.997890     0.993380     0.993380 \n",
      "      Check2     1.000000     1.000000     1.000000     1.000000     1.000000     1.000000     1.000000 \n",
      "    surfType     1.000000     1.000000     1.000000     1.000000     1.000000     1.000000     1.000000 \n"
     ]
    }
   ],
   "source": [
    "from JenTrace.ray_trc import trace, print_report\n",
    "from JenTrace.plt_fnc import plot_system, plot_rayTrace\n",
    "import matplotlib.pyplot as plt\n",
    "\n",
    "#Trace the ray through the optical system\n",
    "trace1 = trace(pto1.RayList,syst1.SurfaceData)\n",
    "print_report(trace1, 'ray',index=0)"
   ]
  },
  {
   "cell_type": "code",
   "execution_count": 11,
   "metadata": {},
   "outputs": [
    {
     "data": {
      "image/png": "[encoded data removed]",
      "text/plain": [
       "<Figure size 432x288 with 1 Axes>"
      ]
     },
     "metadata": {
      "needs_background": "light"
     },
     "output_type": "display_data"
    }
   ],
   "source": [
    "fig, ax = plt.subplots()\n",
    "fig, ax = plot_system(syst1,fig=fig,ax=ax,clearSemDia=[5, 12.5/2, 12.5/2, 12.5/2, 15/2, 15/2,  5])\n",
    "fig, ax = plot_rayTrace(trace1,fig=fig,ax=ax,color='b')    "
   ]
  }
 ],
 "metadata": {
  "kernelspec": {
   "display_name": "Python 3",
   "language": "python",
   "name": "python3"
  },
  "language_info": {
   "codemirror_mode": {
    "name": "ipython",
    "version": 3
   },
   "file_extension": ".py",
   "mimetype": "text/x-python",
   "name": "python",
   "nbconvert_exporter": "python",
   "pygments_lexer": "ipython3",
   "version": "3.7.7"
  }
 },
 "nbformat": 4,
 "nbformat_minor": 4
}
